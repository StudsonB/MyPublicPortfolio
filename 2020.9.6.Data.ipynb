{
 "cells": [
  {
   "cell_type": "code",
   "execution_count": 2,
   "metadata": {},
   "outputs": [],
   "source": [
    "import datetime as dt\n",
    "import matplotlib.pyplot as plt\n",
    "from matplotlib import style\n",
    "import pandas as pd\n",
    "#import pandas_datareader.data as web\n",
    "import numpy as np"
   ]
  },
  {
   "cell_type": "code",
   "execution_count": 3,
   "metadata": {},
   "outputs": [],
   "source": [
    "style.use('ggplot')\n",
    "\n",
    "start = dt.datetime (1900,1,1)"
   ]
  },
  {
   "cell_type": "code",
   "execution_count": 4,
   "metadata": {},
   "outputs": [
    {
     "ename": "NameError",
     "evalue": "name 'web' is not defined",
     "output_type": "error",
     "traceback": [
      "\u001b[1;31m---------------------------------------------------------------------------\u001b[0m",
      "\u001b[1;31mNameError\u001b[0m                                 Traceback (most recent call last)",
      "\u001b[1;32m<ipython-input-4-de21c7881680>\u001b[0m in \u001b[0;36m<module>\u001b[1;34m\u001b[0m\n\u001b[0;32m      1\u001b[0m \u001b[1;34m\"\"\"#Microsoft Data\"\"\"\u001b[0m\u001b[1;33m\u001b[0m\u001b[1;33m\u001b[0m\u001b[0m\n\u001b[0;32m      2\u001b[0m \u001b[1;33m\u001b[0m\u001b[0m\n\u001b[1;32m----> 3\u001b[1;33m \u001b[0mdfMSFT\u001b[0m \u001b[1;33m=\u001b[0m \u001b[0mweb\u001b[0m\u001b[1;33m.\u001b[0m\u001b[0mDataReader\u001b[0m\u001b[1;33m(\u001b[0m\u001b[1;34m'msft'\u001b[0m\u001b[1;33m,\u001b[0m\u001b[1;34m'yahoo'\u001b[0m\u001b[1;33m,\u001b[0m\u001b[0mstart\u001b[0m\u001b[1;33m)\u001b[0m\u001b[1;33m\u001b[0m\u001b[1;33m\u001b[0m\u001b[0m\n\u001b[0m\u001b[0;32m      4\u001b[0m \u001b[1;33m\u001b[0m\u001b[0m\n\u001b[0;32m      5\u001b[0m \u001b[1;31m#This code is to scale the OHLC, Vol, & Adj Close into integers.\u001b[0m\u001b[1;33m\u001b[0m\u001b[1;33m\u001b[0m\u001b[1;33m\u001b[0m\u001b[0m\n",
      "\u001b[1;31mNameError\u001b[0m: name 'web' is not defined"
     ]
    }
   ],
   "source": [
    "\"\"\"#Microsoft Data\"\"\"\n",
    "\n",
    "dfMSFT = web.DataReader('msft','yahoo',start)\n",
    "\n",
    "#This code is to scale the OHLC, Vol, & Adj Close into integers. \n",
    "#OHLC & Adj Close are in terms of cents\n",
    "#Volume is a log transformation\n",
    "dfMSFT['Volume'] = np.around(np.log(dfMSFT['Volume']+1))\n",
    "dfMSFT['High'] = np.around(dfMSFT['High'])\n",
    "dfMSFT['Low'] = np.around(dfMSFT['Low'])\n",
    "dfMSFT['Open'] = np.around(dfMSFT['Open'])\n",
    "dfMSFT['Close'] = np.around(dfMSFT['Close'])\n",
    "dfMSFT['Adj Close'] = np.around(dfMSFT['Adj Close'])\n",
    "\n",
    "#Meta Metrics\n",
    "dfMSFT['MSFT 50 Day Avg'] = np.around(dfMSFT['Adj Close'].rolling(50, min_periods=0).mean())\n",
    "dfMSFT['MSFT 200 Day Avg'] = np.around(dfMSFT['Adj Close'].rolling(200, min_periods=0).mean())\n",
    "#dfMSFT['Scaled High'] = \n",
    "                      # np.around(dfMSFT['High']/dfMSFT['High'].max(),decimals=2)\n",
    "                      # np.around(1-np.power(dfMSFT['High']+1,-1),decimals=5)\n",
    "\n",
    "#Column Rename\n",
    "dfMSFT = dfMSFT.rename(columns={\"High\":\"MSFT High\",\"Low\":\"MSFT Low\",\"Open\":\"MSFT Open\",\n",
    "                                \"Close\":\"MSFT Close\",\"Volume\":\"MSFT Volume\",\"Adj Close\":\n",
    "                                \"MSFT Adj Close\", \"Scaled High\":\"MSFT Scaled High\"})\n",
    "#print(dfMSFT.max())\n",
    "print(dfMSFT)\n",
    "#dfMSFT.to_csv('DataMSFT.csv')\n",
    "#dfMSFT.to_stata('DataMSFT.dta')"
   ]
  },
  {
   "cell_type": "code",
   "execution_count": null,
   "metadata": {},
   "outputs": [],
   "source": [
    "\"\"\"#Vix Volitility Data\"\"\"\n",
    "\n",
    "dfVIX = web.DataReader('^VIX','yahoo',start)\n",
    "\n",
    "dfVIX['High'] = np.around(dfVIX['High'])\n",
    "dfVIX['Low'] = np.around(dfVIX['Low'])\n",
    "dfVIX['Open'] = np.around(dfVIX['Open'])\n",
    "dfVIX['Close'] = np.around(dfVIX['Close'])\n",
    "dfVIX['Adj Close'] = np.around(dfVIX['Adj Close'])\n",
    "\n",
    "dfVIX['GSPC 50 Day Avg'] = np.around(dfVIX['Adj Close'].rolling(50, min_periods=0).mean())\n",
    "dfVIX['GSPC 200 Day Avg'] = np.around(dfVIX['Adj Close'].rolling(200, min_periods=0).mean())\n",
    "\n",
    "dfVIX = dfVIX.rename(columns={\"High\":\"VIX High\",\"Low\":\"VIX Low\",\"Open\":\"VIX Open\",\n",
    "                                \"Close\":\"VIX Close\",\"Volume\":\"VIX Volume\",\"Adj Close\":\"VIX Adj Close\"})\n",
    "#print(dfVIX.max())\n",
    "#print(dfVIX)\n",
    "dfVIX.to_csv('DataVIX.csv')\n",
    "#dfVIX.to_stata('DataVIX.dta')\n"
   ]
  },
  {
   "cell_type": "code",
   "execution_count": null,
   "metadata": {},
   "outputs": [],
   "source": [
    "\"\"\"#S&P 500 Data\"\"\"\n",
    "\n",
    "dfGSPC = web.DataReader('^GSPC','yahoo',start)\n",
    "\n",
    "#I am going to divide OHLC by 30. This will really destroy the data before the time period we are looking at in\n",
    "#the inner data (1990) but will be helpful for the compute power required for the data we are acutally using.\n",
    "dfGSPC['Volume'] = np.around(np.log(dfGSPC['Volume']+1))\n",
    "dfGSPC['High'] = np.around(dfGSPC['High']/30)\n",
    "dfGSPC['Low'] = np.around(dfGSPC['Low']/30)\n",
    "dfGSPC['Open'] = np.around(dfGSPC['Open']/30)\n",
    "dfGSPC['Close'] = np.around(dfGSPC['Close']/30)\n",
    "dfGSPC['Adj Close'] = np.around(dfGSPC['Adj Close']/30)\n",
    "\n",
    "dfGSPC['GSPC 50 Day Avg'] = np.around(dfGSPC['Adj Close'].rolling(50, min_periods=0).mean())\n",
    "dfGSPC['GSPC 200 Day Avg'] = np.around(dfGSPC['Adj Close'].rolling(200, min_periods=0).mean())\n",
    "\n",
    "dfGSPC = dfGSPC.rename(columns={\"High\":\"GSPC High\",\"Low\":\"GSPC Low\",\"Open\":\"GSPC Open\",\n",
    "                                \"Close\":\"GSPC Close\",\"Volume\":\"GSPC Volume\",\"Adj Close\":\"GSPC Adj Close\"})\n",
    "#print(dfGSPC.max())\n",
    "#print(dfGSPC)\n",
    "dfGSPC.to_csv('DataGSPC.csv')\n",
    "#dfGSPC.to_stata('DataGSPC.dta')"
   ]
  },
  {
   "cell_type": "code",
   "execution_count": null,
   "metadata": {},
   "outputs": [],
   "source": [
    "\"\"\"#NYSE Composite Data\"\"\"\n",
    "\n",
    "dfNYA = web.DataReader('^NYA','yahoo',start)\n",
    "\n",
    "#I am dividing the OHLC by 100 to reduce the compute horse power required as we are using hot something \n",
    "#& have super high values is very computationally intensive. \n",
    "#Also, a 100 point swing is a reasonable cut off point of economical importance.\n",
    "dfNYA['Volume'] = np.around(np.log(dfNYA['Volume']+1))\n",
    "dfNYA['High'] = np.around(dfNYA['High']/100)\n",
    "dfNYA['Low'] = np.around(dfNYA['Low']/100)\n",
    "dfNYA['Open'] = np.around(dfNYA['Open']/100)\n",
    "dfNYA['Close'] = np.around(dfNYA['Close']/100)\n",
    "dfNYA['Adj Close'] = np.around(dfNYA['Adj Close']/100)\n",
    "\n",
    "dfNYA['NYA 50 Day Avg'] = np.around(dfNYA['Adj Close'].rolling(50, min_periods=0).mean())\n",
    "dfNYA['NYA 200 Day Avg'] = np.around(dfNYA['Adj Close'].rolling(200, min_periods=0).mean())\n",
    "\n",
    "dfNYA = dfNYA.rename(columns={\"High\":\"NYA High\",\"Low\":\"NYA Low\",\"Open\":\"NYA Open\",\n",
    "                                \"Close\":\"NYA Close\",\"Volume\":\"NYA Volume\",\"Adj Close\":\"NYA Adj Close\"})\n",
    "#print(dfNYA.max())\n",
    "#print(dfNYA)\n",
    "dfNYA.to_csv('DataNYA.csv')\n",
    "#dfNYA.to_stata('DataNYA.dta')\n"
   ]
  },
  {
   "cell_type": "code",
   "execution_count": null,
   "metadata": {},
   "outputs": [],
   "source": [
    "\"\"\"#10 Year Tresury\"\"\"\n",
    "\n",
    "dfTNX = web.DataReader('^TNX','yahoo',start)\n",
    "\n",
    "dfTNX['Volume'] = np.around(np.log(dfTNX['Volume']+1))\n",
    "dfTNX['High'] = np.around(dfTNX['High'])\n",
    "dfTNX['Low'] = np.around(dfTNX['Low'])\n",
    "dfTNX['Open'] = np.around(dfTNX['Open'])\n",
    "dfTNX['Close'] = np.around(dfTNX['Close'])\n",
    "dfTNX['Adj Close'] = np.around(dfTNX['Adj Close'])\n",
    "\n",
    "dfTNX['TNX 50 Day Avg'] = np.around(dfTNX['Adj Close'].rolling(50, min_periods=0).mean())\n",
    "dfTNX['TNX 200 Day Avg'] = np.around(dfTNX['Adj Close'].rolling(200, min_periods=0).mean())\n",
    "\n",
    "dfTNX = dfTNX.rename(columns={\"High\":\"TNX High\",\"Low\":\"TNX Low\",\"Open\":\"TNX Open\",\n",
    "                                \"Close\":\"TNX Close\",\"Volume\":\"TNX Volume\",\"Adj Close\":\"TNX Adj Close\"})\n",
    "#print(dfTNX.max())\n",
    "#print(dfTNX)\n",
    "dfTNX.to_csv('DataTNX.csv')\n",
    "#dfTNX.to_stata('DataTNX.dta')\n"
   ]
  },
  {
   "cell_type": "code",
   "execution_count": null,
   "metadata": {},
   "outputs": [],
   "source": [
    "\"\"\"5 Year Treasury\"\"\"\n",
    "\n",
    "dfFVX = web.DataReader('^FVX','yahoo',start)\n",
    "\n",
    "dfFVX['Volume'] = np.around(np.log(dfFVX['Volume']+1))\n",
    "dfFVX['High'] = np.around(dfFVX['High'])\n",
    "dfFVX['Low'] = np.around(dfFVX['Low'])\n",
    "dfFVX['Open'] = np.around(dfFVX['Open'])\n",
    "dfFVX['Close'] = np.around(dfFVX['Close'])\n",
    "dfFVX['Adj Close'] = np.around(dfFVX['Adj Close'])\n",
    "\n",
    "dfFVX['FVX 50 Day Avg'] = np.around(dfFVX['Adj Close'].rolling(50, min_periods=0).mean())\n",
    "dfFVX['FVX 200 Day Avg'] = np.around(dfFVX['Adj Close'].rolling(200, min_periods=0).mean())\n",
    "\n",
    "dfFVX = dfFVX.rename(columns={\"High\":\"FVX High\",\"Low\":\"FVX Low\",\"Open\":\"FVX Open\",\n",
    "                                \"Close\":\"FVX Close\",\"Volume\":\"FVX Volume\",\"Adj Close\":\"FVX Adj Close\"})\n",
    "#print(dfFVX.max())\n",
    "#print(dfFVX)\n",
    "dfFVX.to_csv('DataFVX.csv')\n",
    "#dfFVX.to_stata('DataFVX.dta')"
   ]
  },
  {
   "cell_type": "code",
   "execution_count": null,
   "metadata": {},
   "outputs": [],
   "source": [
    "\"\"\"30 Year Treasury\"\"\"\n",
    "\n",
    "dfTYX = web.DataReader('^TYX','yahoo',start)\n",
    "\n",
    "dfTYX['Volume'] = np.around(np.log(dfTYX['Volume']+1))\n",
    "dfTYX['High'] = np.around(dfTYX['High'])\n",
    "dfTYX['Low'] = np.around(dfTYX['Low'])\n",
    "dfTYX['Open'] = np.around(dfTYX['Open'])\n",
    "dfTYX['Close'] = np.around(dfTYX['Close'])\n",
    "dfTYX['Adj Close'] = np.around(dfTYX['Adj Close'])\n",
    "\n",
    "dfTYX['TYX 50 Day Avg'] = np.around(dfTYX['Adj Close'].rolling(50, min_periods=0).mean())\n",
    "dfTYX['TYX 200 Day Avg'] = np.around(dfTYX['Adj Close'].rolling(200, min_periods=0).mean())\n",
    "\n",
    "dfTYX = dfTYX.rename(columns={\"High\":\"TYX High\",\"Low\":\"TYX Low\",\"Open\":\"TYX Open\",\n",
    "                                \"Close\":\"TYX Close\",\"Volume\":\"TYX Volume\",\"Adj Close\":\"TYX Adj Close\"})\n",
    "\n",
    "#print(dfTYX.max())\n",
    "#print(dfTYX)\n",
    "dfTYX.to_csv('DataTYX.csv')\n",
    "#dfTYX.to_stata('DataTYX.dta')"
   ]
  },
  {
   "cell_type": "code",
   "execution_count": null,
   "metadata": {},
   "outputs": [],
   "source": [
    "\"\"\"St. Louis FRED\"\"\"\n",
    "\n",
    "dfGDP = web.DataReader('GDP', 'fred', start)\n",
    "\n",
    "print(dfGDP)"
   ]
  },
  {
   "cell_type": "code",
   "execution_count": null,
   "metadata": {},
   "outputs": [],
   "source": [
    "\"\"\"OECD\"\"\"\n",
    "\n",
    "dfTUD = web.DataReader('TUD', 'oecd')\n",
    "\n",
    "dfTUD.columns\n",
    "\n",
    "#print(dfTUD)"
   ]
  },
  {
   "cell_type": "code",
   "execution_count": null,
   "metadata": {},
   "outputs": [],
   "source": [
    "\"\"\"#Inner Data\"\"\"\n",
    "\n",
    "innerdata = pd.concat([dfMSFT,dfVIX,dfGSPC,dfNYA,dfTNX,dfFVX,dfTYX], axis=1, join='inner')\n",
    "\n",
    "print(innerdata.max())\n",
    "#print(innerdata)\n",
    "innerdata.to_csv('InnerData.csv')\n",
    "#innerdata.to_stata('InnerData.dta')"
   ]
  },
  {
   "cell_type": "code",
   "execution_count": null,
   "metadata": {},
   "outputs": [],
   "source": [
    "\"\"\"#Outer Data\"\"\"\n",
    "\n",
    "#outerdata = pd.concat([dfMSFT,dfVIX,dfGSPC,dfNYA], axis=1, sort=False)\n",
    "#print(outerdata)\n",
    "#outerdata.to_csv('OuterData.csv')\n",
    "#outerdata.to_stata('OuterData.dta')"
   ]
  },
  {
   "cell_type": "code",
   "execution_count": null,
   "metadata": {},
   "outputs": [],
   "source": []
  },
  {
   "cell_type": "code",
   "execution_count": null,
   "metadata": {},
   "outputs": [],
   "source": []
  },
  {
   "cell_type": "code",
   "execution_count": null,
   "metadata": {},
   "outputs": [],
   "source": []
  },
  {
   "cell_type": "code",
   "execution_count": null,
   "metadata": {},
   "outputs": [],
   "source": []
  },
  {
   "cell_type": "code",
   "execution_count": null,
   "metadata": {},
   "outputs": [],
   "source": []
  }
 ],
 "metadata": {
  "kernelspec": {
   "display_name": "Python 3",
   "language": "python",
   "name": "python3"
  },
  "language_info": {
   "codemirror_mode": {
    "name": "ipython",
    "version": 3
   },
   "file_extension": ".py",
   "mimetype": "text/x-python",
   "name": "python",
   "nbconvert_exporter": "python",
   "pygments_lexer": "ipython3",
   "version": "3.8.3"
  }
 },
 "nbformat": 4,
 "nbformat_minor": 4
}
