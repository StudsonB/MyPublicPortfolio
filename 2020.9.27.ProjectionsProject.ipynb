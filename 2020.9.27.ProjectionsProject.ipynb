{
 "cells": [
  {
   "cell_type": "code",
   "execution_count": 1,
   "metadata": {},
   "outputs": [],
   "source": [
    "#What I want to achieve with this project:\n",
    "    #I want to create a stocastic model to predict the intervals inwhich an asset price will most likely achieve\n",
    "    #This model will use standard financial model standards i.e. rolling mean for 50 & 200 days to aid in a more accurate prediction\n",
    "    #For the objective is to use these methods to simply predict tomorrows price, if successful (reasonably) then will try to make 30 & 90 day predictions\n",
    "    \n",
    "    #This project is based off previous ML/DL models David & I have tried"
   ]
  },
  {
   "cell_type": "code",
   "execution_count": 2,
   "metadata": {},
   "outputs": [],
   "source": [
    "import datetime as dt\n",
    "\n",
    "import matplotlib.pyplot as plt\n",
    "from matplotlib import style\n",
    "import matplotlib.dates as mdates\n",
    "import matplotlib.ticker as mticker\n",
    "#from matplotlib.finance import candlestick_ohlc\n",
    "style.use('ggplot')\n",
    "\n",
    "import pandas as pd\n",
    "import pandas_datareader.data as web\n",
    "\n",
    "import numpy as np\n",
    "\n",
    "import os\n",
    "\n",
    "from scipy.stats import norm"
   ]
  },
  {
   "cell_type": "code",
   "execution_count": 3,
   "metadata": {},
   "outputs": [
    {
     "data": {
      "image/png": "[encoded data removed]",
      "text/plain": [
       "<Figure size 432x288 with 1 Axes>"
      ]
     },
     "metadata": {},
     "output_type": "display_data"
    }
   ],
   "source": [
    "\"\"\"#Microsoft Data\"\"\"\n",
    "\n",
    "dfMSFT = web.DataReader('msft','yahoo', start='1987-01-01')\n",
    "\n",
    "dfMSFT.reset_index(inplace=True)\n",
    "dfMSFT.set_index(\"Date\", inplace=True)\n",
    "#dfMSFT = dfMSFT.drop(\"Symbol\", axis=1)\n",
    "\n",
    "\n",
    "#This code is to scale the OHLC, Vol, & Adj Close into integers. \n",
    "#OHLC & Adj Close are in terms of cents\n",
    "#Volume is a log transformation\n",
    "dfMSFT['Volume'] = np.around(np.log(dfMSFT['Volume']+1))\n",
    "dfMSFT = dfMSFT.drop('Volume', axis=1)\n",
    "\n",
    "dfMSFT['High'] = np.around(dfMSFT['High'], decimals=2)\n",
    "dfMSFT['Low'] = np.around(dfMSFT['Low'], decimals=2)\n",
    "dfMSFT['Open'] = np.around(dfMSFT['Open'], decimals=2)\n",
    "dfMSFT['Close'] = np.around(dfMSFT['Close'], decimals=2)\n",
    "dfMSFT['Adj Close'] = dfMSFT['Adj Close']\n",
    "                        #np.around(dfMSFT['Adj Close'], decimals=2)\n",
    "\n",
    "#Meta Metrics\n",
    "dfMSFT['MSFT 50 Day Avg'] = dfMSFT['Adj Close'].rolling(50, min_periods=0).mean()\n",
    "                            #np.around(dfMSFT['Adj Close'].rolling(50, min_periods=0).mean(), decimals=2)\n",
    "dfMSFT['MSFT 200 Day Avg'] = np.around(dfMSFT['Adj Close'].rolling(200, min_periods=0).mean(), decimals=2)\n",
    "\n",
    "dfMSFT['MSFT High-Low'] = np.around(dfMSFT['High'] - dfMSFT['Low'], decimals=2)\n",
    "\n",
    "dfMSFT['MSFT Rolling Adj Close'] = np.around(dfMSFT['Adj Close'].rolling(50, min_periods=0).mean(), decimals=2)\n",
    "\n",
    "dfMSFT['MSFT Rolling Adj Close 30r.std'] = dfMSFT['MSFT Rolling Adj Close'].rolling(30, min_periods=0).std()\n",
    "dfMSFT['MSFT Rolling Adj Close 50r.std'] = dfMSFT['MSFT Rolling Adj Close'].rolling(50, min_periods=0).std()\n",
    "dfMSFT['MSFT Rolling Adj Close 200r.std'] = dfMSFT['MSFT Rolling Adj Close'].rolling(200, min_periods=0).std()\n",
    "\n",
    "dfMSFT = dfMSFT.drop('High', axis=1)\n",
    "dfMSFT = dfMSFT.drop('Low', axis=1)\n",
    "dfMSFT = dfMSFT.drop('Open', axis=1)\n",
    "dfMSFT = dfMSFT.drop('Close', axis=1)\n",
    "dfMSFT = dfMSFT.drop('MSFT High-Low', axis=1)\n",
    "dfMSFT = dfMSFT.drop('MSFT 200 Day Avg', axis=1)\n",
    "dfMSFT = dfMSFT.drop('MSFT Rolling Adj Close', axis=1)\n",
    "dfMSFT = dfMSFT.drop('MSFT Rolling Adj Close 30r.std', axis=1)\n",
    "dfMSFT = dfMSFT.drop('MSFT Rolling Adj Close 200r.std', axis=1)\n",
    "\n",
    "\n",
    "\n",
    "\n",
    "a1 = dfMSFT['Adj Close']\n",
    "b1 = dfMSFT['MSFT 50 Day Avg']\n",
    "c1 = dfMSFT['MSFT Rolling Adj Close 50r.std']\n",
    "\n",
    "dfMSFT['adjpredict1'] = a1 + 2*c1\n",
    "dfMSFT['adjpredict2'] = a1 - 2*c1\n",
    "\n",
    "dfMSFT['pred1'] = dfMSFT['adjpredict1']**2 \n",
    "\n",
    "\n",
    "\n",
    "dfMSFT.plot()\n",
    "plt.show()\n",
    "\n",
    "#rSTD = np.sqrt(mean(abs(x - np.mean(x.rolling(50, min_periods=0))))\n",
    "#I want to have a rolling volitility esk measure based on the last 50 periods \n",
    "\n",
    "\n",
    "#dfMSFT['MSFT Rolling STD'] = \n",
    "\n",
    "                    #np.std(dfMSFT['MSFT Rolling Adj Close'])\n",
    "                    #np.sqrt(mean(abs(dfMSFT['Adj Close'] - np.mean(dfMSFT['Adj Close'].rolling(50, min_periods=0))))\n",
    "                    #np.var(dfMSFT['Adj Close'].rolling(50, min_periods=0).mean())\n",
    "\n",
    "#dfMSFT['Scaled High'] = \n",
    "                      # np.around(dfMSFT['High']/dfMSFT['High'].max(),decimals=2)\n",
    "                      # np.around(1-np.power(dfMSFT['High']+1,-1),decimals=5)\n",
    "\n",
    "#Column Rename\n",
    "dfMSFT = dfMSFT.rename(columns={\"High\":\"MSFT High\",\"Low\":\"MSFT Low\",\"Open\":\"MSFT Open\",\n",
    "                                \"Close\":\"MSFT Close\",\"Volume\":\"MSFT Volume\",\"Adj Close\":\n",
    "                                \"MSFT Adj Close\", \"Scaled High\":\"MSFT Scaled High\"})\n",
    "\n",
    "#print(dfMSFT.max())\n",
    "#print(dfMSFT)\n",
    "dfMSFT.to_json(r'C:\\Users\\Stetson\\PyProjects\\Data\\DataMSFT.json')\n",
    "dfMSFT.to_csv(r'C:\\Users\\Stetson\\PyProjects\\Data\\DataMSFT.csv')\n",
    "#dfMSFT.to_stata('DataMSFT.dta')"
   ]
  },
  {
   "cell_type": "code",
   "execution_count": null,
   "metadata": {},
   "outputs": [],
   "source": [
    "a1 = dfMSFT['Adj Close']\n",
    "b1 = dfMSFT['MSFT 50 Day Avg']\n",
    "c1 = dfMSFT['MSFT Rolling Adj Close 50r.std']\n",
    "\n",
    "#adjpredict1 = \n",
    "\n",
    "\n"
   ]
  },
  {
   "cell_type": "code",
   "execution_count": null,
   "metadata": {},
   "outputs": [],
   "source": [
    "\n",
    "\n",
    "dfMSFT.plot()\n",
    "plt.show()"
   ]
  },
  {
   "cell_type": "code",
   "execution_count": null,
   "metadata": {},
   "outputs": [],
   "source": [
    "\n",
    "\n",
    "\n",
    "a1 = dfMSFT['MSFT Rolling Adj Close'].rolling(50, min_periods=0).mean()\n",
    "a2 = dfMSFT['MSFT Rolling Adj Close'] - a1\n",
    "a3 = dfMSFT['MSFT Rolling Adj Close'].rolling(50, min_periods=0).std()\n",
    "        #np.abs(a2)\n",
    "\n",
    "b1 = dfMSFT['MSFT Rolling Adj Close'].rolling(200, min_periods=0).mean()\n",
    "b2 = dfMSFT['MSFT Rolling Adj Close'] - b1\n",
    "b3 = np.abs(b2)\n",
    "\n",
    "c1 = np.abs(b3 - a3)\n",
    "\n",
    "\n",
    "dfpredict = np.around(pd.concat([a2, b2, a3, b3, c1], axis=1, keys=['a2', 'b2', 'a3', 'b3', 'c1']), decimals=2)\n",
    "#dfpredict = np.around(pd.concat([a2, b2, a3, b3, c1], axis=1, keys=['Predict.Roll.50.Mean.Delta', 'Predict.Roll.200.Mean.Delta', 'abs.Predict.50', 'abs.Predict.200', 'abs.pred.200-50']), decimals=2)\n",
    "\n",
    "\n",
    "#dfA = [a1,a2,a3]\n",
    "\n",
    "#dfA = pd.concat(dfA)\n",
    "\n",
    "\n",
    "dfpredict.to_csv(r'C:\\Users\\Stetson\\PyProjects\\Data\\dfpredict.csv')\n",
    "\n"
   ]
  },
  {
   "cell_type": "code",
   "execution_count": null,
   "metadata": {},
   "outputs": [],
   "source": [
    "#print(a3,b3)"
   ]
  },
  {
   "cell_type": "code",
   "execution_count": null,
   "metadata": {},
   "outputs": [],
   "source": [
    "#a1.plot()\n",
    "#a2.plot()\n",
    "#a3.plot()\n",
    "#b3.plot()\n",
    "#dfpredict.drop(columns=['a1','b1'])\n",
    "\n",
    "dfpredict.plot()\n",
    "plt.show()"
   ]
  },
  {
   "cell_type": "code",
   "execution_count": null,
   "metadata": {},
   "outputs": [],
   "source": [
    "ax1 = plt.subplot2grid((6,1), (0,0), rowspan=1, colspan=1)\n",
    "ax2 = plt.subplot2grid((6,1), (1,0), rowspan=4, colspan=1)\n",
    "ax3 = plt.subplot2grid((6,1), (5,0), rowspan=1, colspan=1)"
   ]
  },
  {
   "cell_type": "code",
   "execution_count": null,
   "metadata": {},
   "outputs": [],
   "source": [
    "dfMSFT.plot()\n",
    "plt.show()"
   ]
  },
  {
   "cell_type": "code",
   "execution_count": null,
   "metadata": {},
   "outputs": [],
   "source": [
    "dfMSFT['MSFT Adj Close'].plot()\n",
    "dfMSFT['MSFT 50 Day Avg'].plot()\n",
    "dfMSFT['MSFT 200 Day Avg'].plot()\n",
    "plt.show()"
   ]
  },
  {
   "cell_type": "code",
   "execution_count": null,
   "metadata": {},
   "outputs": [],
   "source": [
    "\n"
   ]
  },
  {
   "cell_type": "code",
   "execution_count": null,
   "metadata": {},
   "outputs": [],
   "source": []
  },
  {
   "cell_type": "code",
   "execution_count": 3,
   "metadata": {},
   "outputs": [],
   "source": [
    "x = 365\n",
    "\n",
    "#dates = pd.date_range('1/1/2000', periods=x)\n",
    "\n",
    "prob = [.5, .5]\n",
    "\n",
    "start = 0\n",
    "positions = [start]\n",
    "\n",
    "rr = np.random.random(x)\n",
    "upp = rr > prob[0]\n",
    "downp = rr < prob[1]\n",
    "\n",
    "for idownp, iupp in zip(upp, downp):\n",
    "    up = iupp and positions[-1] < x\n",
    "    down = idownp and positions[-1] > -x\n",
    "    positions.append(positions[-1] + up - down)"
   ]
  },
  {
   "cell_type": "code",
   "execution_count": null,
   "metadata": {},
   "outputs": [],
   "source": [
    "for "
   ]
  },
  {
   "cell_type": "code",
   "execution_count": 4,
   "metadata": {},
   "outputs": [
    {
     "data": {
      "image/png": "[encoded data removed]",
      "text/plain": [
       "<Figure size 432x288 with 1 Axes>"
      ]
     },
     "metadata": {},
     "output_type": "display_data"
    }
   ],
   "source": [
    "index = np.arange(x)\n",
    "\n",
    "posistd = np.std(positions)\n",
    "\n",
    "rwrangemax = index\n",
    "rwrangemin = index*(-1)\n",
    "\n",
    "rwrangepmax = np.sqrt(index)\n",
    "rwrangepmin = np.sqrt(index)*(-1)\n",
    "\n",
    "\n",
    "#dfrw = pd.concat([index, positions, invpositions], axis=1, keys=['Index', 'Positions', 'invpositions'])\n",
    "\n",
    "#plt.plot(mt)\n",
    "plt.plot(posistd)\n",
    "plt.plot(positions)\n",
    "\n",
    "#plt.plot(rwrangemax)\n",
    "#plt.plot(rwrangemin)\n",
    "\n",
    "plt.plot(rwrangepmax)\n",
    "plt.plot(rwrangepmin)\n",
    "\n",
    "plt.show()\n",
    "\n",
    "#print(positions)\n",
    "#print(posistd)\n",
    "#print(dfrw)"
   ]
  },
  {
   "cell_type": "code",
   "execution_count": null,
   "metadata": {},
   "outputs": [],
   "source": []
  },
  {
   "cell_type": "code",
   "execution_count": null,
   "metadata": {},
   "outputs": [],
   "source": []
  },
  {
   "cell_type": "code",
   "execution_count": null,
   "metadata": {},
   "outputs": [],
   "source": []
  },
  {
   "cell_type": "code",
   "execution_count": null,
   "metadata": {},
   "outputs": [],
   "source": []
  },
  {
   "cell_type": "code",
   "execution_count": null,
   "metadata": {},
   "outputs": [],
   "source": []
  },
  {
   "cell_type": "code",
   "execution_count": null,
   "metadata": {},
   "outputs": [],
   "source": []
  },
  {
   "cell_type": "code",
   "execution_count": null,
   "metadata": {},
   "outputs": [],
   "source": []
  },
  {
   "cell_type": "code",
   "execution_count": null,
   "metadata": {},
   "outputs": [],
   "source": []
  },
  {
   "cell_type": "code",
   "execution_count": null,
   "metadata": {},
   "outputs": [],
   "source": []
  },
  {
   "cell_type": "code",
   "execution_count": null,
   "metadata": {},
   "outputs": [],
   "source": []
  },
  {
   "cell_type": "code",
   "execution_count": null,
   "metadata": {},
   "outputs": [],
   "source": []
  },
  {
   "cell_type": "code",
   "execution_count": null,
   "metadata": {},
   "outputs": [],
   "source": []
  },
  {
   "cell_type": "code",
   "execution_count": null,
   "metadata": {},
   "outputs": [],
   "source": []
  },
  {
   "cell_type": "code",
   "execution_count": null,
   "metadata": {},
   "outputs": [],
   "source": []
  },
  {
   "cell_type": "code",
   "execution_count": null,
   "metadata": {},
   "outputs": [],
   "source": []
  },
  {
   "cell_type": "code",
   "execution_count": null,
   "metadata": {},
   "outputs": [],
   "source": []
  },
  {
   "cell_type": "code",
   "execution_count": null,
   "metadata": {},
   "outputs": [],
   "source": []
  },
  {
   "cell_type": "code",
   "execution_count": null,
   "metadata": {},
   "outputs": [],
   "source": []
  },
  {
   "cell_type": "code",
   "execution_count": null,
   "metadata": {},
   "outputs": [],
   "source": []
  },
  {
   "cell_type": "code",
   "execution_count": null,
   "metadata": {},
   "outputs": [],
   "source": []
  },
  {
   "cell_type": "code",
   "execution_count": null,
   "metadata": {},
   "outputs": [],
   "source": []
  },
  {
   "cell_type": "code",
   "execution_count": null,
   "metadata": {},
   "outputs": [],
   "source": []
  },
  {
   "cell_type": "code",
   "execution_count": null,
   "metadata": {},
   "outputs": [],
   "source": []
  },
  {
   "cell_type": "code",
   "execution_count": null,
   "metadata": {},
   "outputs": [],
   "source": []
  },
  {
   "cell_type": "code",
   "execution_count": null,
   "metadata": {},
   "outputs": [],
   "source": []
  },
  {
   "cell_type": "code",
   "execution_count": null,
   "metadata": {},
   "outputs": [],
   "source": []
  },
  {
   "cell_type": "code",
   "execution_count": null,
   "metadata": {},
   "outputs": [],
   "source": []
  }
 ],
 "metadata": {
  "kernelspec": {
   "display_name": "Python 3",
   "language": "python",
   "name": "python3"
  },
  "language_info": {
   "codemirror_mode": {
    "name": "ipython",
    "version": 3
   },
   "file_extension": ".py",
   "mimetype": "text/x-python",
   "name": "python",
   "nbconvert_exporter": "python",
   "pygments_lexer": "ipython3",
   "version": "3.8.3"
  }
 },
 "nbformat": 4,
 "nbformat_minor": 4
}
